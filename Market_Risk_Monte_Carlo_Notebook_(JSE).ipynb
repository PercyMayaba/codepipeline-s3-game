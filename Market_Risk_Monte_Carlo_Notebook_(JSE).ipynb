{
  "nbformat": 4,
  "nbformat_minor": 0,
  "metadata": {
    "colab": {
      "provenance": [],
      "authorship_tag": "ABX9TyM4sJOfpr0Elud7CJ6ck3Yb",
      "include_colab_link": true
    },
    "kernelspec": {
      "name": "python3",
      "display_name": "Python 3"
    },
    "language_info": {
      "name": "python"
    }
  },
  "cells": [
    {
      "cell_type": "markdown",
      "metadata": {
        "id": "view-in-github",
        "colab_type": "text"
      },
      "source": [
        "<a href=\"https://colab.research.google.com/github/PercyMayaba/codepipeline-s3-game/blob/main/Market_Risk_Monte_Carlo_Notebook_(JSE).ipynb\" target=\"_parent\"><img src=\"https://colab.research.google.com/assets/colab-badge.svg\" alt=\"Open In Colab\"/></a>"
      ]
    },
    {
      "cell_type": "code",
      "execution_count": null,
      "metadata": {
        "id": "obbP9T-Yzx1z"
      },
      "outputs": [],
      "source": [
        "# Environment: imports\n",
        "import numpy as np\n",
        "import pandas as pd\n",
        "import matplotlib.pyplot as plt\n",
        "import yfinance as yf\n",
        "from scipy.stats import norm"
      ]
    },
    {
      "cell_type": "code",
      "source": [
        "pip install yfinance"
      ],
      "metadata": {
        "colab": {
          "base_uri": "https://localhost:8080/"
        },
        "id": "MjOo6CZ41qFV",
        "outputId": "84e1fb9f-58fa-4d1f-faca-119be49eed12"
      },
      "execution_count": null,
      "outputs": [
        {
          "output_type": "stream",
          "name": "stdout",
          "text": [
            "Requirement already satisfied: yfinance in /usr/local/lib/python3.12/dist-packages (0.2.66)\n",
            "Requirement already satisfied: pandas>=1.3.0 in /usr/local/lib/python3.12/dist-packages (from yfinance) (2.2.2)\n",
            "Requirement already satisfied: numpy>=1.16.5 in /usr/local/lib/python3.12/dist-packages (from yfinance) (2.0.2)\n",
            "Requirement already satisfied: requests>=2.31 in /usr/local/lib/python3.12/dist-packages (from yfinance) (2.32.4)\n",
            "Requirement already satisfied: multitasking>=0.0.7 in /usr/local/lib/python3.12/dist-packages (from yfinance) (0.0.12)\n",
            "Requirement already satisfied: platformdirs>=2.0.0 in /usr/local/lib/python3.12/dist-packages (from yfinance) (4.4.0)\n",
            "Requirement already satisfied: pytz>=2022.5 in /usr/local/lib/python3.12/dist-packages (from yfinance) (2025.2)\n",
            "Requirement already satisfied: frozendict>=2.3.4 in /usr/local/lib/python3.12/dist-packages (from yfinance) (2.4.6)\n",
            "Requirement already satisfied: peewee>=3.16.2 in /usr/local/lib/python3.12/dist-packages (from yfinance) (3.18.2)\n",
            "Requirement already satisfied: beautifulsoup4>=4.11.1 in /usr/local/lib/python3.12/dist-packages (from yfinance) (4.13.5)\n",
            "Requirement already satisfied: curl_cffi>=0.7 in /usr/local/lib/python3.12/dist-packages (from yfinance) (0.13.0)\n",
            "Requirement already satisfied: protobuf>=3.19.0 in /usr/local/lib/python3.12/dist-packages (from yfinance) (5.29.5)\n",
            "Requirement already satisfied: websockets>=13.0 in /usr/local/lib/python3.12/dist-packages (from yfinance) (15.0.1)\n",
            "Requirement already satisfied: soupsieve>1.2 in /usr/local/lib/python3.12/dist-packages (from beautifulsoup4>=4.11.1->yfinance) (2.8)\n",
            "Requirement already satisfied: typing-extensions>=4.0.0 in /usr/local/lib/python3.12/dist-packages (from beautifulsoup4>=4.11.1->yfinance) (4.15.0)\n",
            "Requirement already satisfied: cffi>=1.12.0 in /usr/local/lib/python3.12/dist-packages (from curl_cffi>=0.7->yfinance) (2.0.0)\n",
            "Requirement already satisfied: certifi>=2024.2.2 in /usr/local/lib/python3.12/dist-packages (from curl_cffi>=0.7->yfinance) (2025.8.3)\n",
            "Requirement already satisfied: python-dateutil>=2.8.2 in /usr/local/lib/python3.12/dist-packages (from pandas>=1.3.0->yfinance) (2.9.0.post0)\n",
            "Requirement already satisfied: tzdata>=2022.7 in /usr/local/lib/python3.12/dist-packages (from pandas>=1.3.0->yfinance) (2025.2)\n",
            "Requirement already satisfied: charset_normalizer<4,>=2 in /usr/local/lib/python3.12/dist-packages (from requests>=2.31->yfinance) (3.4.3)\n",
            "Requirement already satisfied: idna<4,>=2.5 in /usr/local/lib/python3.12/dist-packages (from requests>=2.31->yfinance) (3.10)\n",
            "Requirement already satisfied: urllib3<3,>=1.21.1 in /usr/local/lib/python3.12/dist-packages (from requests>=2.31->yfinance) (2.5.0)\n",
            "Requirement already satisfied: pycparser in /usr/local/lib/python3.12/dist-packages (from cffi>=1.12.0->curl_cffi>=0.7->yfinance) (2.23)\n",
            "Requirement already satisfied: six>=1.5 in /usr/local/lib/python3.12/dist-packages (from python-dateutil>=2.8.2->pandas>=1.3.0->yfinance) (1.17.0)\n"
          ]
        }
      ]
    },
    {
      "cell_type": "code",
      "source": [
        "# 1) Portfolio: 8 real JSE underlyings (tickers for yfinance)\n",
        "# NOTE: These are the underlying equities commonly used for JSE derivatives.\n",
        "# The notebook assumes exchange-listed derivatives exist (single-stock futures / options)\n",
        "# You should confirm exact derivative contract codes with the JSE or your broker.\n",
        "TICKERS = [\n",
        "'NPN.JO', # Naspers Ltd (Class N)\n",
        "'SOL.JO', # Sasol Limited\n",
        "'MTN.JO', # MTN Group\n",
        "'AGL.JO', # Anglo American plc\n",
        "'SBK.JO', # Standard Bank Group\n",
        "'FSR.JO', # FirstRand Limited\n",
        "'ANG.JO', # AngloGold Ashanti\n",
        "'BHG.JO', # BHP Group Limited (JSE listing)\n",
        "]"
      ],
      "metadata": {
        "id": "j_eHPASv04Gy"
      },
      "execution_count": null,
      "outputs": []
    },
    {
      "cell_type": "code",
      "metadata": {
        "id": "i_GeagtN1R4Q"
      },
      "source": [
        "# Parameters & helper functions\n",
        "RISK_FREE_RATE = 0.08 # annual, placeholder (replace with actual SA yield curve)\n",
        "DAYS_PER_YEAR = 252\n",
        "\n",
        "\n",
        "def fetch_price_series(tickers, start='2018-01-01', end=None):\n",
        "    data = yf.download(tickers, start=start, end=end, progress=False)\n",
        "    # Handle multi-level columns if present\n",
        "    if isinstance(data.columns, pd.MultiIndex):\n",
        "        # Select 'Adj Close' for all tickers\n",
        "        prices = data['Adj Close']\n",
        "    elif 'Adj Close' in data:\n",
        "        # Single ticker case or older yfinance versions\n",
        "        prices = data['Adj Close'].to_frame()\n",
        "    else:\n",
        "        raise ValueError(\"Could not find 'Adj Close' in downloaded data.\")\n",
        "\n",
        "    prices = prices.dropna(how='all')\n",
        "    # Ensure column names are just the ticker symbols\n",
        "    prices.columns = [col[0] if isinstance(col, tuple) else col for col in prices.columns]\n",
        "    return prices\n",
        "\n",
        "\n",
        "def log_returns(price_df):\n",
        "    return np.log(price_df / price_df.shift(1)).dropna()\n",
        "\n",
        "\n",
        "# Annualize daily vol\n",
        "def annualize_vol(std_daily):\n",
        "    return std_daily * np.sqrt(DAYS_PER_YEAR)"
      ],
      "execution_count": null,
      "outputs": []
    },
    {
      "cell_type": "code",
      "source": [
        "# Monte Carlo - correlated GBM (simulate final prices at horizon)\n",
        "\n",
        "\n",
        "def simulate_gbm_final(S0, mu, sigma, corr, T, n_paths=50000, seed=42):\n",
        "    \"\"\"\n",
        "    Simulate final prices for correlated GBM under historical (real-world) drift mu.\n",
        "    S0, mu, sigma are 1D arrays (n_assets,)\n",
        "    corr is correlation matrix\n",
        "    T is time horizon in years\n",
        "    Returns S_T: shape (n_paths, n_assets)\n",
        "    \"\"\"\n",
        "    np.random.seed(seed)\n",
        "    n_assets = len(S0)\n",
        "    L = np.linalg.cholesky(corr)\n",
        "    Z = np.random.normal(size=(n_paths, n_assets))\n",
        "    correlated = Z @ L.T\n",
        "    drift = (mu - 0.5*(sigma**2)) * T\n",
        "    diffusion = sigma * np.sqrt(T) * correlated\n",
        "    logS = np.log(S0) + drift + diffusion\n",
        "    S_T = np.exp(logS)\n",
        "    return S_T"
      ],
      "metadata": {
        "id": "uAyo_QSy6WmA"
      },
      "execution_count": null,
      "outputs": []
    },
    {
      "cell_type": "code",
      "metadata": {
        "colab": {
          "base_uri": "https://localhost:8080/"
        },
        "id": "83ad03a5",
        "outputId": "bc796b1f-f010-447c-da92-196291038092"
      },
      "source": [
        "print(TICKERS)"
      ],
      "execution_count": null,
      "outputs": [
        {
          "output_type": "stream",
          "name": "stdout",
          "text": [
            "['NPN.JO', 'SOL.JO', 'MTN.JO', 'AGL.JO', 'SBK.JO', 'FSR.JO', 'ANG.JO', 'BHG.JO']\n"
          ]
        }
      ]
    },
    {
      "cell_type": "code",
      "metadata": {
        "id": "39ab438e"
      },
      "source": [
        "# Define the time horizon for the simulation in days\n",
        "T_days = 252 # Example: 1 year horizon (assuming 252 trading days)\n",
        "\n"
      ],
      "execution_count": null,
      "outputs": []
    },
    {
      "cell_type": "markdown",
      "metadata": {
        "id": "25d9abc2"
      },
      "source": [
        "# Task\n",
        "Define `S_T` by calling the `simulate_gbm_final` function with the calculated/defined inputs."
      ]
    },
    {
      "cell_type": "markdown",
      "metadata": {
        "id": "a3eaf8fb"
      },
      "source": [
        "## Define initial prices (s0)\n",
        "\n",
        "### Subtask:\n",
        "Get the most recent closing prices for the tickers defined in the `TICKERS` list.\n"
      ]
    },
    {
      "cell_type": "markdown",
      "metadata": {
        "id": "3b9c8d3d"
      },
      "source": [
        "**Reasoning**:\n",
        "Fetch the historical price data and extract the most recent closing prices into a NumPy array.\n",
        "\n"
      ]
    },
    {
      "cell_type": "code",
      "metadata": {
        "colab": {
          "base_uri": "https://localhost:8080/"
        },
        "id": "0d3e74d7",
        "outputId": "6105669f-8f0d-4ca2-94c4-e2cbeac05dbc"
      },
      "source": [
        "prices_df = fetch_price_series(TICKERS)\n",
        "S0 = prices_df.iloc[-1].values"
      ],
      "execution_count": null,
      "outputs": [
        {
          "output_type": "stream",
          "name": "stderr",
          "text": [
            "/tmp/ipython-input-732306031.py:2: FutureWarning: YF.download() has changed argument auto_adjust default to True\n",
            "  data = yf.download(tickers, start=start, end=end, progress=False)\n"
          ]
        }
      ]
    },
    {
      "cell_type": "markdown",
      "metadata": {
        "id": "ec5f4cef"
      },
      "source": [
        "**Reasoning**:\n",
        "The error indicates that 'Adj Close' is not directly available, likely due to `auto_adjust=True` being the new default in `yfinance`. This means the data is already adjusted, and the columns are likely just 'Open', 'High', 'Low', 'Close', 'Volume'. The function needs to be updated to handle this. I will modify the `fetch_price_series` function to select the 'Close' column when 'Adj Close' is not present and `auto_adjust=True`.\n",
        "\n"
      ]
    },
    {
      "cell_type": "code",
      "metadata": {
        "colab": {
          "base_uri": "https://localhost:8080/"
        },
        "id": "QbzYLvEC9_h_",
        "outputId": "94b7248e-0ed6-4e5d-d705-18baf1f836d5"
      },
      "source": [
        "def fetch_price_series(tickers, start='2018-01-01', end=None):\n",
        "    data = yf.download(tickers, start=start, end=end, progress=False)\n",
        "    # Handle multi-level columns if present\n",
        "    if isinstance(data.columns, pd.MultiIndex):\n",
        "        # Select 'Adj Close' if available, otherwise 'Close'\n",
        "        if 'Adj Close' in data.columns.get_level_values(0):\n",
        "            prices = data['Adj Close']\n",
        "        elif 'Close' in data.columns.get_level_values(0):\n",
        "             prices = data['Close']\n",
        "        else:\n",
        "             raise ValueError(\"Could not find 'Adj Close' or 'Close' in downloaded data.\")\n",
        "    elif 'Adj Close' in data:\n",
        "        # Single ticker case or older yfinance versions\n",
        "        prices = data['Adj Close'].to_frame()\n",
        "    elif 'Close' in data:\n",
        "        # Single ticker case with auto_adjust=True\n",
        "        prices = data['Close'].to_frame()\n",
        "    else:\n",
        "        raise ValueError(\"Could not find 'Adj Close' or 'Close' in downloaded data.\")\n",
        "\n",
        "    prices = prices.dropna(how='all')\n",
        "    # Ensure column names are just the ticker symbols\n",
        "    prices.columns = [col[0] if isinstance(col, tuple) else col for col in prices.columns]\n",
        "    return prices\n",
        "\n",
        "prices_df = fetch_price_series(TICKERS)\n",
        "S0 = prices_df.iloc[-1].values"
      ],
      "execution_count": null,
      "outputs": [
        {
          "output_type": "stream",
          "name": "stderr",
          "text": [
            "/tmp/ipython-input-732306031.py:2: FutureWarning: YF.download() has changed argument auto_adjust default to True\n",
            "  data = yf.download(tickers, start=start, end=end, progress=False)\n"
          ]
        }
      ]
    },
    {
      "cell_type": "markdown",
      "metadata": {
        "id": "a2f06eb5"
      },
      "source": [
        "## Calculate historical returns\n",
        "\n",
        "### Subtask:\n",
        "Calculate the daily log returns from the price data stored in the `prices_df` DataFrame.\n"
      ]
    },
    {
      "cell_type": "markdown",
      "metadata": {
        "id": "1535b347"
      },
      "source": [
        "**Reasoning**:\n",
        "Calculate the daily log returns from the price data.\n",
        "\n"
      ]
    },
    {
      "cell_type": "code",
      "metadata": {
        "id": "623d7b95"
      },
      "source": [
        "daily_log_returns = np.log(prices_df / prices_df.shift(1)).dropna()"
      ],
      "execution_count": null,
      "outputs": []
    },
    {
      "cell_type": "markdown",
      "metadata": {
        "id": "066e3088"
      },
      "source": [
        "## Calculate historical drift (mu)\n",
        "\n",
        "### Subtask:\n",
        "Calculate the annualized mean of the daily log returns stored in the `daily_log_returns` DataFrame to represent the historical drift (`mu`).\n"
      ]
    },
    {
      "cell_type": "markdown",
      "metadata": {
        "id": "a15f5529"
      },
      "source": [
        "**Reasoning**:\n",
        "Calculate the mean of daily log returns and annualize them to get the historical drift (mu).\n",
        "\n"
      ]
    },
    {
      "cell_type": "code",
      "metadata": {
        "id": "6f3a3d8d"
      },
      "source": [
        "mu = daily_log_returns.mean() * DAYS_PER_YEAR\n",
        "mu = mu.values"
      ],
      "execution_count": null,
      "outputs": []
    },
    {
      "cell_type": "markdown",
      "metadata": {
        "id": "4fa42ff8"
      },
      "source": [
        "## Calculate historical volatility (sigma)\n",
        "\n",
        "### Subtask:\n",
        "Calculate the annualized standard deviation of the daily log returns stored in the `daily_log_returns` DataFrame to represent the historical volatility (`sigma`).\n"
      ]
    },
    {
      "cell_type": "markdown",
      "metadata": {
        "id": "199e3235"
      },
      "source": [
        "**Reasoning**:\n",
        "Calculate the annualized standard deviation of the daily log returns and store it in the `sigma` variable.\n",
        "\n"
      ]
    },
    {
      "cell_type": "code",
      "metadata": {
        "id": "72ae1cdb"
      },
      "source": [
        "sigma = daily_log_returns.std() * np.sqrt(DAYS_PER_YEAR)\n",
        "sigma = sigma.values"
      ],
      "execution_count": null,
      "outputs": []
    },
    {
      "cell_type": "markdown",
      "metadata": {
        "id": "2ad05b2b"
      },
      "source": [
        "## Calculate correlation matrix (corr)\n",
        "\n",
        "### Subtask:\n",
        "Calculate the correlation matrix of the daily log returns stored in the `daily_log_returns` DataFrame.\n"
      ]
    },
    {
      "cell_type": "markdown",
      "metadata": {
        "id": "f2b8ba69"
      },
      "source": [
        "**Reasoning**:\n",
        "Calculate the correlation matrix of the daily log returns and store it as a NumPy array named `corr`.\n",
        "\n"
      ]
    },
    {
      "cell_type": "code",
      "metadata": {
        "id": "1ca96a83"
      },
      "source": [
        "corr = daily_log_returns.corr().values"
      ],
      "execution_count": null,
      "outputs": []
    },
    {
      "cell_type": "markdown",
      "metadata": {
        "id": "2a2bb062"
      },
      "source": [
        "## Define portfolio weights\n",
        "\n",
        "### Subtask:\n",
        "Define the weights for each asset in the portfolio."
      ]
    },
    {
      "cell_type": "markdown",
      "metadata": {
        "id": "148669f3"
      },
      "source": [
        "**Reasoning**:\n",
        "Define an array of equal weights for each asset in the portfolio."
      ]
    },
    {
      "cell_type": "code",
      "metadata": {
        "colab": {
          "base_uri": "https://localhost:8080/"
        },
        "id": "e5fb23f7",
        "outputId": "486f8b60-cd8d-4854-dfe5-148d33961d8a"
      },
      "source": [
        "n_assets = len(TICKERS)\n",
        "weights = np.array([1.0 / n_assets] * n_assets)\n",
        "print(weights)"
      ],
      "execution_count": null,
      "outputs": [
        {
          "output_type": "stream",
          "name": "stdout",
          "text": [
            "[0.125 0.125 0.125 0.125 0.125 0.125 0.125 0.125]\n"
          ]
        }
      ]
    },
    {
      "cell_type": "markdown",
      "metadata": {
        "id": "6d29d6cd"
      },
      "source": [
        "# Task\n",
        "Calculate and report the VaR and ES of the portfolio."
      ]
    },
    {
      "cell_type": "markdown",
      "metadata": {
        "id": "a53919ee"
      },
      "source": [
        "## Define portfolio weights\n",
        "\n",
        "### Subtask:\n",
        "Define the weights for each asset in the portfolio.\n"
      ]
    },
    {
      "cell_type": "markdown",
      "metadata": {
        "id": "6e91f173"
      },
      "source": [
        "**Reasoning**:\n",
        "Define an array of equal weights for each asset in the portfolio.\n",
        "\n"
      ]
    },
    {
      "cell_type": "code",
      "metadata": {
        "colab": {
          "base_uri": "https://localhost:8080/"
        },
        "id": "38e99c20",
        "outputId": "398957b9-98c0-4149-cf31-c559cfec7952"
      },
      "source": [
        "n_assets = len(TICKERS)\n",
        "weights = np.array([1.0 / n_assets] * n_assets)\n",
        "print(weights)"
      ],
      "execution_count": null,
      "outputs": [
        {
          "output_type": "stream",
          "name": "stdout",
          "text": [
            "[0.125 0.125 0.125 0.125 0.125 0.125 0.125 0.125]\n"
          ]
        }
      ]
    },
    {
      "cell_type": "markdown",
      "metadata": {
        "id": "3557f382"
      },
      "source": [
        "## Calculate portfolio initial value\n",
        "\n",
        "### Subtask:\n",
        "Calculate the initial value of the portfolio based on the initial prices (`S0`) and the portfolio weights (`weights`).\n"
      ]
    },
    {
      "cell_type": "markdown",
      "metadata": {
        "id": "51c09398"
      },
      "source": [
        "**Reasoning**:\n",
        "Calculate the initial portfolio value by taking the dot product of the initial prices and the weights.\n",
        "\n"
      ]
    },
    {
      "cell_type": "code",
      "metadata": {
        "colab": {
          "base_uri": "https://localhost:8080/"
        },
        "id": "ca5321f4",
        "outputId": "609f745f-e702-4167-86db-8df4e0a1163e"
      },
      "source": [
        "portfolio_initial_value = np.dot(S0, weights)\n",
        "print(f\"Initial Portfolio Value: {portfolio_initial_value:.2f}\")"
      ],
      "execution_count": null,
      "outputs": [
        {
          "output_type": "stream",
          "name": "stdout",
          "text": [
            "Initial Portfolio Value: 53154.25\n"
          ]
        }
      ]
    },
    {
      "cell_type": "markdown",
      "metadata": {
        "id": "17557637"
      },
      "source": [
        "# Task\n",
        "Calculate and report the Value at Risk (VaR) and Expected Shortfall (ES) for a portfolio of assets using a Geometric Brownian Motion (GBM) simulation. The analysis should include fetching historical price data for a predefined list of tickers, calculating historical risk metrics (drift, volatility, correlation), simulating future price paths using GBM, calculating the portfolio's profit and loss (PnL), and finally computing and reporting the VaR and ES at a 99% confidence level."
      ]
    },
    {
      "cell_type": "markdown",
      "metadata": {
        "id": "af7cb9c4"
      },
      "source": [
        "## Define initial prices (s0)\n",
        "\n",
        "### Subtask:\n",
        "Get the most recent closing prices for the tickers defined in the `TICKERS` list.\n"
      ]
    },
    {
      "cell_type": "markdown",
      "metadata": {
        "id": "ce0a5169"
      },
      "source": [
        "**Reasoning**:\n",
        "Fetch the historical price data using the updated `fetch_price_series` function and extract the most recent closing prices into a NumPy array `S0`.\n",
        "\n"
      ]
    },
    {
      "cell_type": "code",
      "metadata": {
        "colab": {
          "base_uri": "https://localhost:8080/"
        },
        "id": "2be63e78",
        "outputId": "a9f53d0e-0380-443f-cca6-c888dfb1f24a"
      },
      "source": [
        "prices_df = fetch_price_series(TICKERS)\n",
        "S0 = prices_df.iloc[-1].values"
      ],
      "execution_count": null,
      "outputs": [
        {
          "output_type": "stream",
          "name": "stderr",
          "text": [
            "/tmp/ipython-input-732306031.py:2: FutureWarning: YF.download() has changed argument auto_adjust default to True\n",
            "  data = yf.download(tickers, start=start, end=end, progress=False)\n"
          ]
        }
      ]
    },
    {
      "cell_type": "markdown",
      "metadata": {
        "id": "ce9a6171"
      },
      "source": [
        "## Define portfolio weights\n",
        "\n",
        "### Subtask:\n",
        "Define the weights for each asset in the portfolio.\n"
      ]
    },
    {
      "cell_type": "markdown",
      "metadata": {
        "id": "3674e7d2"
      },
      "source": [
        "**Reasoning**:\n",
        "Define an array of equal weights for each asset in the portfolio.\n",
        "\n"
      ]
    },
    {
      "cell_type": "code",
      "metadata": {
        "colab": {
          "base_uri": "https://localhost:8080/"
        },
        "id": "270597b0",
        "outputId": "498de5f1-070c-402e-e818-91ec6a498125"
      },
      "source": [
        "n_assets = len(TICKERS)\n",
        "weights = np.array([1.0 / n_assets] * n_assets)\n",
        "print(weights)"
      ],
      "execution_count": null,
      "outputs": [
        {
          "output_type": "stream",
          "name": "stdout",
          "text": [
            "[0.125 0.125 0.125 0.125 0.125 0.125 0.125 0.125]\n"
          ]
        }
      ]
    },
    {
      "cell_type": "markdown",
      "metadata": {
        "id": "b68a5270"
      },
      "source": [
        "## Calculate portfolio initial value\n",
        "\n",
        "### Subtask:\n",
        "Calculate the initial value of the portfolio based on the initial prices (`S0`) and the portfolio weights (`weights`).\n"
      ]
    },
    {
      "cell_type": "markdown",
      "metadata": {
        "id": "0f2296ff"
      },
      "source": [
        "**Reasoning**:\n",
        "Calculate the initial portfolio value by taking the dot product of the initial prices and the weights.\n",
        "\n"
      ]
    },
    {
      "cell_type": "code",
      "metadata": {
        "colab": {
          "base_uri": "https://localhost:8080/"
        },
        "id": "422c338f",
        "outputId": "552e6f93-d23d-4491-bf1c-4e60bba339dc"
      },
      "source": [
        "portfolio_initial_value = np.dot(S0, weights)\n",
        "print(f\"Initial Portfolio Value: {portfolio_initial_value:.2f}\")"
      ],
      "execution_count": null,
      "outputs": [
        {
          "output_type": "stream",
          "name": "stdout",
          "text": [
            "Initial Portfolio Value: 53118.88\n"
          ]
        }
      ]
    },
    {
      "cell_type": "markdown",
      "metadata": {
        "id": "91eef346"
      },
      "source": [
        "## Define time horizon (t)\n",
        "\n",
        "### Subtask:\n",
        "Convert the time horizon in days (`T_days`) to years (`T`).\n"
      ]
    },
    {
      "cell_type": "markdown",
      "metadata": {
        "id": "364f4143"
      },
      "source": [
        "**Reasoning**:\n",
        "Convert the time horizon from days to years.\n",
        "\n"
      ]
    },
    {
      "cell_type": "code",
      "metadata": {
        "colab": {
          "base_uri": "https://localhost:8080/"
        },
        "id": "4179372c",
        "outputId": "bed2b15e-ab4a-4244-eb36-0d6bbc31f1a2"
      },
      "source": [
        "T = T_days / DAYS_PER_YEAR\n",
        "print(f\"Time Horizon (T) in years: {T:.2f}\")"
      ],
      "execution_count": null,
      "outputs": [
        {
          "output_type": "stream",
          "name": "stdout",
          "text": [
            "Time Horizon (T) in years: 1.00\n"
          ]
        }
      ]
    },
    {
      "cell_type": "markdown",
      "metadata": {
        "id": "35e6d565"
      },
      "source": [
        "## Define number of paths (n paths)\n",
        "\n",
        "### Subtask:\n",
        "Define the number of simulation paths for the Monte Carlo simulation.\n"
      ]
    },
    {
      "cell_type": "markdown",
      "metadata": {
        "id": "58b0ccaf"
      },
      "source": [
        "**Reasoning**:\n",
        "Define the number of simulation paths for the Monte Carlo simulation and print its value.\n",
        "\n"
      ]
    },
    {
      "cell_type": "code",
      "metadata": {
        "colab": {
          "base_uri": "https://localhost:8080/"
        },
        "id": "b5d4ac42",
        "outputId": "b07c3ec7-e093-4419-b088-b99e82584032"
      },
      "source": [
        "n_paths = 200000\n",
        "print(f\"Number of simulation paths: {n_paths}\")"
      ],
      "execution_count": null,
      "outputs": [
        {
          "output_type": "stream",
          "name": "stdout",
          "text": [
            "Number of simulation paths: 200000\n"
          ]
        }
      ]
    },
    {
      "cell_type": "markdown",
      "metadata": {
        "id": "6090cb56"
      },
      "source": [
        "## Simulate final prices (s t)\n",
        "\n",
        "### Subtask:\n",
        "Call the `simulate_gbm_final` function with the calculated/defined inputs to get `S_T`.\n"
      ]
    },
    {
      "cell_type": "markdown",
      "metadata": {
        "id": "e3372578"
      },
      "source": [
        "**Reasoning**:\n",
        "Call the `simulate_gbm_final` function with the calculated inputs and print the shape of the resulting array.\n",
        "\n"
      ]
    },
    {
      "cell_type": "code",
      "metadata": {
        "colab": {
          "base_uri": "https://localhost:8080/"
        },
        "id": "9ab88aeb",
        "outputId": "d6a8d51d-c8f9-457d-af55-f1ad9d3bb4dc"
      },
      "source": [
        "S_T = simulate_gbm_final(S0, mu, sigma, corr, T, n_paths=n_paths)\n",
        "print(\"Shape of simulated final prices (S_T):\", S_T.shape)"
      ],
      "execution_count": null,
      "outputs": [
        {
          "output_type": "stream",
          "name": "stdout",
          "text": [
            "Shape of simulated final prices (S_T): (200000, 8)\n"
          ]
        }
      ]
    },
    {
      "cell_type": "markdown",
      "metadata": {
        "id": "8862e185"
      },
      "source": [
        "## Calculate simulated portfolio final values\n",
        "\n",
        "### Subtask:\n",
        "Calculate the simulated final values of the portfolio based on the simulated final prices (`S_T`) and the portfolio weights (`weights`).\n"
      ]
    },
    {
      "cell_type": "markdown",
      "metadata": {
        "id": "45c9344d"
      },
      "source": [
        "**Reasoning**:\n",
        "Calculate the simulated final portfolio values by taking the dot product of the simulated final prices and the portfolio weights.\n",
        "\n"
      ]
    },
    {
      "cell_type": "code",
      "metadata": {
        "colab": {
          "base_uri": "https://localhost:8080/"
        },
        "id": "2da5cbfd",
        "outputId": "8d26053d-46a4-4766-9fdb-36a6c791d683"
      },
      "source": [
        "portfolio_final_values = np.dot(S_T, weights)\n",
        "print(\"Shape of simulated final portfolio values:\", portfolio_final_values.shape)"
      ],
      "execution_count": null,
      "outputs": [
        {
          "output_type": "stream",
          "name": "stdout",
          "text": [
            "Shape of simulated final portfolio values: (200000,)\n"
          ]
        }
      ]
    },
    {
      "cell_type": "markdown",
      "metadata": {
        "id": "19e1feb4"
      },
      "source": [
        "## Calculate portfolio pnl (pv pnl)\n",
        "\n",
        "### Subtask:\n",
        "Calculate the portfolio profit and loss (`pv_pnl`) as the difference between the simulated final values and the initial value.\n"
      ]
    },
    {
      "cell_type": "markdown",
      "metadata": {
        "id": "5ed3464d"
      },
      "source": [
        "**Reasoning**:\n",
        "Calculate the portfolio profit and loss by subtracting the initial portfolio value from the simulated final portfolio values and store it in `pv_pnl`.\n",
        "\n"
      ]
    },
    {
      "cell_type": "code",
      "metadata": {
        "colab": {
          "base_uri": "https://localhost:8080/"
        },
        "id": "eade4e8f",
        "outputId": "49895fc0-58c3-41b9-c0eb-c38f5d3c14ef"
      },
      "source": [
        "pv_pnl = portfolio_final_values - portfolio_initial_value\n",
        "print(\"Shape of portfolio PnL (pv_pnl):\", pv_pnl.shape)"
      ],
      "execution_count": null,
      "outputs": [
        {
          "output_type": "stream",
          "name": "stdout",
          "text": [
            "Shape of portfolio PnL (pv_pnl): (200000,)\n"
          ]
        }
      ]
    },
    {
      "cell_type": "markdown",
      "metadata": {
        "id": "ea20cb44"
      },
      "source": [
        "## Calculate risk metrics\n",
        "\n",
        "### Subtask:\n",
        "Calculate VaR and ES using the `var_es` function with the calculated `pv_pnl`.\n"
      ]
    },
    {
      "cell_type": "markdown",
      "metadata": {
        "id": "9106d2b6"
      },
      "source": [
        "**Reasoning**:\n",
        "Calculate VaR and ES at 99% and 95% confidence levels using the calculated pv_pnl.\n",
        "\n"
      ]
    },
    {
      "cell_type": "code",
      "metadata": {
        "id": "28f74092"
      },
      "source": [
        "def var_es(pnl_array, alpha=0.99):\n",
        "    losses = -pnl_array\n",
        "    var = np.quantile(losses, alpha)\n",
        "    es = losses[losses >= var].mean()\n",
        "    return var, es"
      ],
      "execution_count": null,
      "outputs": []
    },
    {
      "cell_type": "markdown",
      "metadata": {
        "id": "09836645"
      },
      "source": [
        "# Portfolio Risk Analysis using Monte Carlo Simulation (Geometric Brownian Motion)\n",
        "\n",
        "This repository contains a Jupyter notebook that performs a risk analysis for a portfolio of South African JSE underlyings using a Monte Carlo simulation based on the Geometric Brownian Motion (GBM) model. The analysis focuses on calculating the Value at Risk (VaR) and Expected Shortfall (ES) of the portfolio over a specified time horizon.\n",
        "\n",
        "## Methodology\n",
        "\n",
        "The risk analysis follows these key steps:\n",
        "\n",
        "1.  **Data Loading**: Historical adjusted closing prices for a predefined list of JSE tickers are fetched using the `yfinance` library.\n",
        "2.  **Historical Risk Metrics Calculation**: Daily log returns are calculated from the historical price data. The annualized historical drift (mean) and volatility (standard deviation) of these log returns, as well as their correlation matrix, are computed. These historical metrics are used as inputs for the GBM simulation.\n",
        "3.  **Portfolio Definition**: An equally-weighted portfolio is defined for the selected assets. The initial value of the portfolio is calculated based on the most recent closing prices and the defined weights.\n",
        "4.  **Monte Carlo Simulation (Correlated GBM)**: The `simulate_gbm_final` function is used to simulate multiple potential price paths for each asset over the specified time horizon (e.g., 1 year). The simulation uses a correlated Geometric Brownian Motion model, incorporating the historical drift, volatility, and the correlation matrix between assets.\n",
        "5.  **Portfolio Profit and Loss (PnL) Calculation**: For each simulated price path, the final value of the portfolio is calculated based on the simulated asset prices and the portfolio weights. The portfolio PnL for each path is then determined as the difference between the simulated final value and the initial portfolio value.\n",
        "6.  **Value at Risk (VaR) and Expected Shortfall (ES) Calculation**: Using the distribution of simulated portfolio PnL values, the VaR and ES are calculated at specified confidence levels (e.g., 99% and 95%).\n",
        "    *   **VaR** represents the maximum expected loss over a given time horizon at a certain confidence level.\n",
        "    *   **ES** (also known as Conditional VaR) represents the expected loss given that the loss is greater than or equal to the VaR. It provides a more conservative measure of tail risk.\n",
        "\n",
        "## Results\n",
        "\n",
        "Based on the analysis performed with a 1-year time horizon (`T=1.00`), 200,000 simulation paths, and an equally-weighted portfolio of the specified JSE tickers, the following risk metrics were calculated:\n",
        "\n",
        "*   **Initial Portfolio Value**: 53118.88 ZAR\n",
        "*   **Portfolio VaR 99%**: 28437.74 ZAR\n",
        "*   **Portfolio ES 99%**: 30693.93 ZAR\n",
        "*   **Portfolio VaR 95%**: 22672.69 ZAR\n",
        "*   **Portfolio ES 95%**: 26205.81 ZAR\n",
        "\n",
        "## Key Findings and Insights\n",
        "\n",
        "*   The initial portfolio value based on the most recent closing prices and equal weights for the 8 assets was calculated to be \\$53118.88.\n",
        "*   The Geometric Brownian Motion (GBM) simulation was performed for a one-year time horizon (`T=1.00`) using 200,000 simulation paths.\n",
        "*   The simulated final prices resulted in a portfolio PnL calculated for each of the 200,000 simulation paths.\n",
        "*   The calculated risk metrics at the 99% confidence level are: Portfolio VaR 99% (ZAR): 28437.74 and Portfolio ES 99% (ZAR): 30693.93.\n",
        "*   The calculated risk metrics at the 95% confidence level are: Portfolio VaR 95% (ZAR): 22672.69 and Portfolio ES 95% (ZAR): 26205.81.\n",
        "*   The Expected Shortfall (ES) at both confidence levels (99% and 95%) is higher than the corresponding VaR, as expected, indicating the average loss in the worst-case scenarios is greater than the VaR threshold.\n",
        "\n",
        "## Next Steps\n",
        "\n",
        "*   Consider performing a sensitivity analysis to understand how changes in input parameters (e.g., time horizon, number of simulations, confidence level) affect the calculated VaR and ES.\n",
        "*   Explore alternative risk models beyond GBM (e.g., historical simulation, GARCH models) to compare results and assess model risk.\n",
        "*   Implement backtesting procedures to evaluate the accuracy of the VaR and ES estimates based on historical data.\n",
        "*   Extend the analysis to include transaction costs, taxes, and other real-world factors.\n",
        "*   Consider optimizing the portfolio weights based on risk and return objectives.\n",
        "\n",
        "## Usage\n",
        "\n",
        "To run this analysis, execute the cells in the provided Jupyter notebook sequentially. Ensure you have the necessary libraries installed (e.g., `yfinance`, `numpy`, `pandas`, `matplotlib`)."
      ]
    },
    {
      "cell_type": "markdown",
      "metadata": {
        "id": "e55392bf"
      },
      "source": [
        "**Reasoning**:\n",
        "The function `var_es` was not defined in the current session. I need to redefine the `var_es` function before using it to calculate VaR and ES.\n",
        "\n"
      ]
    },
    {
      "cell_type": "code",
      "metadata": {
        "colab": {
          "base_uri": "https://localhost:8080/"
        },
        "id": "dchQkiaeA81F",
        "outputId": "70e88a55-a26a-44f6-8091-528bf98cf386"
      },
      "source": [
        "def var_es(pnl_array, alpha=0.99):\n",
        "    losses = -pnl_array\n",
        "    var = np.quantile(losses, alpha)\n",
        "    es = losses[losses >= var].mean()\n",
        "    return var, es\n",
        "\n",
        "var_99, es_99 = var_es(pv_pnl, alpha=0.99)\n",
        "var_95, es_95 = var_es(pv_pnl, alpha=0.95)\n",
        "\n",
        "print('\\nPortfolio VaR 99% (ZAR):', np.round(var_99, 2))\n",
        "print('Portfolio ES 99% (ZAR):', np.round(es_99, 2))\n",
        "print('Portfolio VaR 95% (ZAR):', np.round(var_95, 2))\n",
        "print('Portfolio ES 95% (ZAR):', np.round(es_95, 2))"
      ],
      "execution_count": null,
      "outputs": [
        {
          "output_type": "stream",
          "name": "stdout",
          "text": [
            "\n",
            "Portfolio VaR 99% (ZAR): 28437.74\n",
            "Portfolio ES 99% (ZAR): 30693.93\n",
            "Portfolio VaR 95% (ZAR): 22672.69\n",
            "Portfolio ES 95% (ZAR): 26205.81\n"
          ]
        }
      ]
    },
    {
      "cell_type": "markdown",
      "metadata": {
        "id": "566cb45e"
      },
      "source": [
        "## Report risk metrics\n",
        "\n",
        "### Subtask:\n",
        "Print the calculated VaR and ES values.\n"
      ]
    },
    {
      "cell_type": "markdown",
      "metadata": {
        "id": "672511f7"
      },
      "source": [
        "**Reasoning**:\n",
        "Print the calculated VaR and ES values for both 99% and 95% confidence levels, formatted to two decimal places.\n",
        "\n"
      ]
    },
    {
      "cell_type": "code",
      "metadata": {
        "colab": {
          "base_uri": "https://localhost:8080/"
        },
        "id": "f0ee58c3",
        "outputId": "4f7b725c-96a7-4ed0-d419-0e39e179ca34"
      },
      "source": [
        "print('\\nPortfolio VaR 99% (ZAR):', np.round(var_99, 2))\n",
        "print('Portfolio ES 99% (ZAR):', np.round(es_99, 2))\n",
        "print('Portfolio VaR 95% (ZAR):', np.round(var_95, 2))\n",
        "print('Portfolio ES 95% (ZAR):', np.round(es_95, 2))"
      ],
      "execution_count": null,
      "outputs": [
        {
          "output_type": "stream",
          "name": "stdout",
          "text": [
            "\n",
            "Portfolio VaR 99% (ZAR): 28437.74\n",
            "Portfolio ES 99% (ZAR): 30693.93\n",
            "Portfolio VaR 95% (ZAR): 22672.69\n",
            "Portfolio ES 95% (ZAR): 26205.81\n"
          ]
        }
      ]
    },
    {
      "cell_type": "markdown",
      "metadata": {
        "id": "e4d1bc19"
      },
      "source": [
        "## Summary:\n",
        "\n",
        "### Data Analysis Key Findings\n",
        "\n",
        "*   The initial portfolio value based on the most recent closing prices and equal weights for the 8 assets was calculated to be \\$53118.88.\n",
        "*   The Geometric Brownian Motion (GBM) simulation was performed for a one-year time horizon (`T=1.00`) using 200,000 simulation paths.\n",
        "*   The simulated final prices resulted in a portfolio PnL calculated for each of the 200,000 simulation paths.\n",
        "*   The calculated risk metrics at the 99% confidence level are: Portfolio VaR 99% (ZAR): 28437.74 and Portfolio ES 99% (ZAR): 30693.93.\n",
        "*   The calculated risk metrics at the 95% confidence level are: Portfolio VaR 95% (ZAR): 22672.69 and Portfolio ES 95% (ZAR): 26205.81.\n",
        "\n",
        "### Insights or Next Steps\n",
        "\n",
        "*   The Expected Shortfall (ES) at both confidence levels (99% and 95%) is higher than the corresponding VaR, as expected, indicating the average loss in the worst-case scenarios is greater than the VaR threshold.\n",
        "*   Consider performing a sensitivity analysis to understand how changes in input parameters (e.g., time horizon, number of simulations, confidence level) affect the calculated VaR and ES.\n"
      ]
    }
  ]
}